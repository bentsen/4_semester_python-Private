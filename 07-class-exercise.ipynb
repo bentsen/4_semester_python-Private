{
 "cells": [
  {
   "cell_type": "code",
   "execution_count": 30,
   "metadata": {
    "collapsed": true
   },
   "outputs": [
    {
     "name": "stdout",
     "output_type": "stream",
     "text": [
      "{'OBE': '/wiki/Officer_of_the_Order_of_the_British_Empire', 'FRS': '/wiki/Fellow_of_the_Royal_Society', '': '/wiki/File:Alan_Turing_signature.svg', 'Maida Vale': '/wiki/Maida_Vale', 'Wilmslow': '/wiki/Wilmslow', 'Cyanide poisoning': '/wiki/Cyanide_poisoning', '[note 1]': '#cite_note-1', 'Woking Crematorium': '/wiki/Woking_Crematorium', 'Sherborne School': '/wiki/Sherborne_School', 'University of Cambridge': '/wiki/University_of_Cambridge', 'BA': '/wiki/Bachelor_of_Arts', 'MA': '/wiki/Master_of_Arts', 'Princeton University': '/wiki/Princeton_University', 'Cryptanalysis of the Enigma': '/wiki/Cryptanalysis_of_the_Enigma', \"Turing's proof\": '/wiki/Turing%27s_proof', 'Turing machine': '/wiki/Turing_machine', 'Turing test': '/wiki/Turing_test', 'Unorganised machine': '/wiki/Unorganized_machine', 'Turing pattern': '/wiki/Turing_pattern', 'Turing reduction': '/wiki/Turing_reduction', 'The Chemical Basis of Morphogenesis': '/wiki/The_Chemical_Basis_of_Morphogenesis', 'Joan Clarke': '/wiki/Joan_Clarke', \"Smith's Prize\": '/wiki/Smith%27s_Prize', 'Logic': '/wiki/Logic', 'Mathematics': '/wiki/Mathematics', 'Cryptanalysis': '/wiki/Cryptanalysis', 'Computer science': '/wiki/Computer_science', 'Mathematical and theoretical biology': '/wiki/Mathematical_and_theoretical_biology', '[1]': '#cite_note-googlescholar-2', 'University of Manchester': '/wiki/Victoria_University_of_Manchester', 'Government Code and Cypher School': '/wiki/Government_Code_and_Cypher_School', 'National Physical Laboratory': '/wiki/National_Physical_Laboratory,_UK', 'Thesis': '/wiki/Thesis', 'Systems of Logic Based on Ordinals': 'https://web.archive.org/web/20121023103503/https://webspace.princeton.edu/users/jedwards/Turing%20Centennial%202012/Mudd%20Archive%20files/12285_AC100_Turing_1938.pdf', 'Doctoral advisor': '/wiki/Doctoral_advisor', 'Alonzo Church': '/wiki/Alonzo_Church', '[2]': '#cite_note-mathgene-3', 'Robin Gandy': '/wiki/Robin_Gandy', '[3]': '#cite_note-gandyphd-4', 'Beatrice Worsley': '/wiki/Beatrice_Worsley', '[4]': '#cite_note-bowen19-5', 'Max Newman': '/wiki/Max_Newman', '[5]': '#cite_note-6'}\n"
     ]
    }
   ],
   "source": [
    "import requests, bs4, re\n",
    "#1. Make a request to: `https://en.wikipedia.org/wiki/Alan_Turing` and print out the responses .text property\n",
    "\n",
    "req = requests.get(\"https://en.wikipedia.org/wiki/Alan_Turing\")\n",
    "soup = bs4.BeautifulSoup(req.text, 'html')\n",
    "\n",
    "#print(soup.text)\n",
    "\n",
    "#2. Find and print the title of the response page\n",
    "title = soup.find('title')\n",
    "#print(title)\n",
    "\n",
    "#3. Find and print content of the first p tag that has content.\n",
    "p = soup.find('p', {\"class\": \"\"})\n",
    "#print(p)\n",
    "\n",
    "#4. Find and print all content from the TOC\n",
    "table = soup.find(lambda tag: tag.name=='table')\n",
    "#print(table)\n",
    "\n",
    "\n",
    "#5. Create a dictionary from the TOC links like: {'first link':'#this_is_the_first_link}\n",
    "dict = {}\n",
    "\n",
    "rows = table.findChildren(['th','tr'])\n",
    "\n",
    "for row in rows:\n",
    "    cells = row.findChildren('a', href=True)\n",
    "    for cell in cells:\n",
    "        dict[cell.text] = cell['href']\n",
    "\n",
    "print(dict)\n",
    "\n",
    "#6. Create a function that can take a word and look for it in the dictionary keys and then return the content from the first link that matches. Return the next p elements until next headline (h3 element).\n",
    "\n",
    "\n",
    "\n"
   ]
  },
  {
   "cell_type": "code",
   "execution_count": null,
   "outputs": [],
   "source": [],
   "metadata": {
    "collapsed": false
   }
  }
 ],
 "metadata": {
  "kernelspec": {
   "display_name": "Python 3",
   "language": "python",
   "name": "python3"
  },
  "language_info": {
   "codemirror_mode": {
    "name": "ipython",
    "version": 2
   },
   "file_extension": ".py",
   "mimetype": "text/x-python",
   "name": "python",
   "nbconvert_exporter": "python",
   "pygments_lexer": "ipython2",
   "version": "2.7.6"
  }
 },
 "nbformat": 4,
 "nbformat_minor": 0
}
