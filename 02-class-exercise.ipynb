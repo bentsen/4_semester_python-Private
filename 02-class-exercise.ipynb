{
 "cells": [
  {
   "cell_type": "code",
   "execution_count": null,
   "metadata": {
    "collapsed": true
   },
   "outputs": [],
   "source": [
    "import argparse\n",
    "\n",
    "\n",
    "def print_file_content(file='exercise.csv'):\n",
    "    with open(file) as file_object:\n",
    "        contents = file_object.read()\n",
    "        print(contents)\n",
    "\n",
    "def write_list_to_file(output_file,*lst):\n",
    "    with open(output_file, 'w') as file_object:\n",
    "        for word in lst:\n",
    "            file_object.write(word)\n",
    "\n",
    "def read_csv(input_file):\n",
    "    list = []\n",
    "    with open(input_file) as file_object:\n",
    "        lines = file_object.readlines()\n",
    "    for line in lines:\n",
    "        strippedLine = line.strip()\n",
    "        list.append(int(strippedLine))\n",
    "    print(list)\n",
    "\n",
    "if __name__ == '__main__':\n",
    "\n",
    "    parser = argparse.ArgumentParser()\n",
    "    parser.add_argument('path')\n",
    "    parser.add_argument('--file','file_name')\n",
    "    parser.add_argument('--help',help='Use path or file')\n",
    "\n",
    "    print_file_content('exercise.csv')\n",
    "\n",
    "    write_list_to_file('file1.csv','Check','this','out')\n",
    "\n",
    "    read_csv('row_list.csv')"
   ]
  }
 ],
 "metadata": {
  "kernelspec": {
   "display_name": "Python 3",
   "language": "python",
   "name": "python3"
  },
  "language_info": {
   "codemirror_mode": {
    "name": "ipython",
    "version": 2
   },
   "file_extension": ".py",
   "mimetype": "text/x-python",
   "name": "python",
   "nbconvert_exporter": "python",
   "pygments_lexer": "ipython2",
   "version": "2.7.6"
  }
 },
 "nbformat": 4,
 "nbformat_minor": 0
}
