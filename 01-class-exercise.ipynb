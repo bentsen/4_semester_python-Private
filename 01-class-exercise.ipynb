{
 "cells": [
  {
   "cell_type": "code",
   "execution_count": 15,
   "metadata": {
    "collapsed": true
   },
   "outputs": [
    {
     "name": "stdout",
     "output_type": "stream",
     "text": [
      "['hans', 'henriette', 'holland']\n",
      "[3, 9, 27, 81]\n",
      "[(6, 'mikkel'), (4, 'hans'), (5, 'gitte'), (9, 'henriette'), (7, 'holland'), (9, 'sebastian')]\n",
      "1\n",
      "2\n",
      "3\n",
      "1\n",
      "4\n",
      "2\n",
      "3\n",
      "2\n"
     ]
    }
   ],
   "source": [
    "list_of_names = [\"mikkel\",\"hans\", \"gitte\", \"henriette\", \"holland\", \"sebastian\"]\n",
    "\n",
    "#1. Iterate a list of names to return a list of the names starting with H\n",
    "list_of_names_with_h = []\n",
    "for i in list_of_names:\n",
    "    if i.startswith(\"h\"):\n",
    "        list_of_names_with_h.append(i)\n",
    "\n",
    "print(list_of_names_with_h)\n",
    "\n",
    "#2. In one line create a list of the numbers 1-100 to the power of 3\n",
    "list_of_numbers = [3**j for j in range(1,3+2)]\n",
    "print(list_of_numbers)\n",
    "\n",
    "#  3. Iterate a list of names to create a list of tuples where the tuples first value is the length of the name and the second is the name\n",
    "list_of_tuples = []\n",
    "for i in list_of_names:\n",
    "    _tuple = (len(i), i)\n",
    "    list_of_tuples.append(_tuple)\n",
    "\n",
    "print(list_of_tuples)\n",
    "\n",
    "# 4. Iterate over each character in a string and get only those that are nummeric\n",
    "string_name = \"mi123kkelb1en423ts2en\"\n",
    "for i in string_name:\n",
    "    if i.isnumeric():\n",
    "        print(i)\n",
    "\n",
    "\n",
    "# 5. Using only a list comprehension wrapped in set() get all possible combinations from throwing 2 dice (hint use 2 for loops in a single list comprehension). Result should look like: [2,3,4,5,6,7,8,...] or a more complex/accurate solution: [(1,1),(1,2)...] in a way that (1,2) is equal to (2,1).\n",
    "\n",
    "\n"
   ]
  }
 ],
 "metadata": {
  "kernelspec": {
   "display_name": "Python 3",
   "language": "python",
   "name": "python3"
  },
  "language_info": {
   "codemirror_mode": {
    "name": "ipython",
    "version": 2
   },
   "file_extension": ".py",
   "mimetype": "text/x-python",
   "name": "python",
   "nbconvert_exporter": "python",
   "pygments_lexer": "ipython2",
   "version": "2.7.6"
  }
 },
 "nbformat": 4,
 "nbformat_minor": 0
}