{
 "cells": [
  {
   "cell_type": "code",
   "execution_count": null,
   "metadata": {
    "collapsed": true
   },
   "outputs": [],
   "source": [
    "class Student():\n",
    "\n",
    "    def __init__(self, name, gender, data_sheet, image_url):\n",
    "        self.data_sheet = data_sheet\n",
    "\n",
    "\n",
    "    def get_avg_grade(self):\n",
    "        print()\n",
    "\n"
   ]
  },
  {
   "cell_type": "code",
   "execution_count": null,
   "outputs": [],
   "source": [
    "class Datasheet():\n",
    "\n",
    "    def __init__(self, courses=[]):\n",
    "        self.courses = courses\n",
    "\n",
    "    def get_grades_as_list(self, courses):\n",
    "        print()\n",
    "\n",
    "\n"
   ],
   "metadata": {
    "collapsed": false,
    "pycharm": {
     "name": "#%%\n"
    }
   }
  },
  {
   "cell_type": "code",
   "execution_count": null,
   "outputs": [],
   "source": [
    "class Course():\n",
    "\n",
    "    def __init__(self, name, classroom, teacher, ETCS, grade):"
   ],
   "metadata": {
    "collapsed": false,
    "pycharm": {
     "name": "#%%\n"
    }
   }
  },
  {
   "cell_type": "code",
   "execution_count": 3,
   "outputs": [],
   "source": [
    "import random\n",
    "import csv\n",
    "\n",
    "first_names=('John','Andy','Joe', 'hans', 'sebastian', 'mikkel', 'oliver', 'christian', 'frederik', 'nikolai')\n",
    "last_names=('Johnson','Smith','Williams', 'bentsen', 'kieffer', 'erikkson' ,'weinell', 'pasha' , 'habibi')\n",
    "gender_list=('male', 'female')\n",
    "courses_list =('matematik', 'dansk', 'idræt', 'coding', 'billedekunst', 'håndværk')\n",
    "grades_list = ('-03', '00', '02', '4', '7', '10', '12')\n",
    "\n",
    "\n",
    "def generate_student(n):\n",
    "    row_list = []\n",
    "    header = 'stud_name, course_name, teacher, gender, ects, classroom, grade, img_url'\n",
    "\n",
    "    for i in range(n):\n",
    "        name = random.choice(first_names) + \" \" + random.choice(last_names)\n",
    "        gender = random.choice(gender_list)\n",
    "        courses = random.choice(courses_list)\n",
    "        grades = random.choice(grades_list)\n",
    "        img_url = \"klamt billede\"\n",
    "        row_list.append(f'{name}, {gender}, {courses}, {grades}, {img_url}')\n",
    "\n",
    "    data_list = [header, row_list]\n",
    "    with open('../data/03-exercise.csv', 'w') as file:\n",
    "        writer = csv.writer(file)\n",
    "        writer.writerow(data_list)\n",
    "\n",
    "generate_student(10)"
   ],
   "metadata": {
    "collapsed": false,
    "pycharm": {
     "name": "#%%\n"
    }
   }
  }
 ],
 "metadata": {
  "kernelspec": {
   "display_name": "Python 3",
   "language": "python",
   "name": "python3"
  },
  "language_info": {
   "codemirror_mode": {
    "name": "ipython",
    "version": 2
   },
   "file_extension": ".py",
   "mimetype": "text/x-python",
   "name": "python",
   "nbconvert_exporter": "python",
   "pygments_lexer": "ipython2",
   "version": "2.7.6"
  }
 },
 "nbformat": 4,
 "nbformat_minor": 0
}