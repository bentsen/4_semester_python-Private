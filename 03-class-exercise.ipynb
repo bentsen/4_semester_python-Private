{
 "cells": [
  {
   "cell_type": "code",
   "execution_count": 3,
   "metadata": {
    "collapsed": true
   },
   "outputs": [
    {
     "name": "stdout",
     "output_type": "stream",
     "text": [
      "Student(name='foggy-chestnut-abyssinian', gender=1, data_sheet=DataSheet(courses=Course(course_name='Codeing', classroom='C250', teacher='Hans', etcs=70, grade=12)), img_url='https://www.profileImage.com')\n",
      "Student(name='sleazy-burgundy-weasel', gender=0, data_sheet=DataSheet(courses=Course(course_name='Codeing', classroom='C250', teacher='Hans', etcs=70, grade=12)), img_url='https://www.profileImage.com')\n",
      "Student(name='crabby-olive-mau', gender=1, data_sheet=DataSheet(courses=Course(course_name='Computer tech', classroom='C230', teacher='Bente', etcs=80, grade=7)), img_url='https://www.profileImage.com')\n",
      "Student(name='shaggy-tomato-spaniel', gender=0, data_sheet=DataSheet(courses=Course(course_name='Sys', classroom='C220', teacher='Kim', etcs=20, grade=4)), img_url='https://www.profileImage.com')\n",
      "Student(name='muggy-amaranth-shrimp', gender=0, data_sheet=DataSheet(courses=Course(course_name='Sys', classroom='C220', teacher='Kim', etcs=20, grade=4)), img_url='https://www.profileImage.com')\n",
      "Student(name='goopy-indigo-monster', gender=1, data_sheet=DataSheet(courses=Course(course_name='Codeing', classroom='C250', teacher='Hans', etcs=70, grade=12)), img_url='https://www.profileImage.com')\n",
      "Student(name='tasty-aqua-boar', gender=1, data_sheet=DataSheet(courses=Course(course_name='Codeing', classroom='C250', teacher='Hans', etcs=70, grade=12)), img_url='https://www.profileImage.com')\n",
      "Student(name='hilly-ruby-cassowary', gender=0, data_sheet=DataSheet(courses=Course(course_name='Computer tech', classroom='C230', teacher='Bente', etcs=80, grade=7)), img_url='https://www.profileImage.com')\n",
      "Student(name='tacky-goldenrod-crocodile', gender=0, data_sheet=DataSheet(courses=Course(course_name='Codeing', classroom='C250', teacher='Hans', etcs=70, grade=12)), img_url='https://www.profileImage.com')\n",
      "Student(name='hasty-denim-lion', gender=1, data_sheet=DataSheet(courses=Course(course_name='Sys', classroom='C220', teacher='Kim', etcs=20, grade=4)), img_url='https://www.profileImage.com')\n"
     ]
    }
   ],
   "source": [
    "from dataclasses import dataclass\n",
    "import random\n",
    "import csv\n",
    "import namegenerator\n",
    "\n",
    "# 1. Create 3 classes: Student, DataSheet and Course\n",
    "\n",
    "# Each course has name, classroom, teacher, ETCS and optional grade if course is taken.\n",
    "@dataclass()\n",
    "class Course:\n",
    "    course_name: str\n",
    "    classroom: str\n",
    "    teacher: str\n",
    "    etcs: int\n",
    "    grade: int\n",
    "\n",
    "\n",
    "# a data_sheet has multiple courses in particular order\n",
    "# In DataSheet create a method to get_grades_as_list()\n",
    "@dataclass()\n",
    "class DataSheet:\n",
    "    courses: list[Course]\n",
    "\n",
    "    def get_grade_list(self):\n",
    "        grades_list = []\n",
    "        for i in self.courses:\n",
    "            grades_list.append(i.grade)\n",
    "\n",
    "            return self.courses\n",
    "\n",
    "\n",
    "# A student has a data_sheet\n",
    "# In student create a method: get_avg_grade()\n",
    "@dataclass()\n",
    "class Student:\n",
    "    name: str\n",
    "    gender: int\n",
    "    data_sheet: DataSheet\n",
    "    img_url: str\n",
    "\n",
    "    def get_avg_grade(self):\n",
    "        sum_num = 0\n",
    "        grades_list = self.data_sheet.get_grade_list()\n",
    "        for g in grades_list:\n",
    "            sum_num = sum_num + g.grade\n",
    "\n",
    "        avg = sum_num / len(grades_list)\n",
    "        return avg\n",
    "\n",
    "#Create a function that can generate n number of students with random: name, gender, courses (from a fixed list of course names), grades, img_url\n",
    "def generate_student(number: int):\n",
    "    students = []\n",
    "\n",
    "    course_1 = Course(\"Codeing\", \"C250\", \"Hans\", 70, 12)\n",
    "    course_2 = Course(\"Computer tech\", \"C230\", \"Bente\", 80, 7)\n",
    "    course_3 = Course(\"Sys\", \"C220\", \"Kim\", 20, 4)\n",
    "    courses = [course_1,course_2,course_3]\n",
    "\n",
    "    for i in range(number):\n",
    "        random_course = random.choice(courses)\n",
    "        student_img = \"https://www.profileImage.com\"\n",
    "        random_gender = random.randint(0, 1)\n",
    "        random_name = namegenerator.gen()\n",
    "        datasheet = DataSheet(random_course)\n",
    "\n",
    "        generated_student = Student(random_name, random_gender, datasheet, student_img)\n",
    "\n",
    "        students.append(generated_student)\n",
    "\n",
    "    with open(\"../data/03-exercise.csv\" , \"w\") as file:\n",
    "        header = [\"Name\", \"Gender\", \"Courses\", \"ImageUrl\"]\n",
    "        writer = csv.writer(file)\n",
    "        writer.writerow(header)\n",
    "        for i in students:\n",
    "            writer.writerow([i.name, i.gender, i.data_sheet, i.img_url])\n",
    "            print(i)\n",
    "\n",
    "\n",
    "\n",
    "generate_student(10)"
   ]
  },
  {
   "cell_type": "code",
   "execution_count": null,
   "outputs": [],
   "source": [],
   "metadata": {
    "collapsed": false
   }
  }
 ],
 "metadata": {
  "kernelspec": {
   "display_name": "Python 3",
   "language": "python",
   "name": "python3"
  },
  "language_info": {
   "codemirror_mode": {
    "name": "ipython",
    "version": 2
   },
   "file_extension": ".py",
   "mimetype": "text/x-python",
   "name": "python",
   "nbconvert_exporter": "python",
   "pygments_lexer": "ipython2",
   "version": "2.7.6"
  }
 },
 "nbformat": 4,
 "nbformat_minor": 0
}
