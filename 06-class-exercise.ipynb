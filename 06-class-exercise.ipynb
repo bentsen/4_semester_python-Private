{
 "cells": [
  {
   "cell_type": "code",
   "execution_count": 4,
   "metadata": {
    "collapsed": true
   },
   "outputs": [
    {
     "name": "stdout",
     "output_type": "stream",
     "text": [
      "{'cod': 401, 'message': 'Invalid API key. Please see https://openweathermap.org/faq#error401 for more info.'}\n"
     ]
    }
   ],
   "source": [
    "import json\n",
    "import requests\n",
    "\n",
    "url = \"http://api.openweathermap.org/data/2.5/forecast\"\n",
    "req = requests.get(url, params={'q': 'Copenhagen,dk', 'mode': 'json',\n",
    "                                'units': 'metric',\n",
    "                                'APPID': '936ceca65139d6e3d16d3f75e47103d9'})\n",
    "\n",
    "req_json = json.loads(req.text)\n",
    "\n",
    "print(req_json)"
   ]
  }
 ],
 "metadata": {
  "kernelspec": {
   "display_name": "Python 3",
   "language": "python",
   "name": "python3"
  },
  "language_info": {
   "codemirror_mode": {
    "name": "ipython",
    "version": 2
   },
   "file_extension": ".py",
   "mimetype": "text/x-python",
   "name": "python",
   "nbconvert_exporter": "python",
   "pygments_lexer": "ipython2",
   "version": "2.7.6"
  }
 },
 "nbformat": 4,
 "nbformat_minor": 0
}